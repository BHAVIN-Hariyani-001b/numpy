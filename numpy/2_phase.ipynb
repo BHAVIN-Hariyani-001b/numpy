{
 "cells": [
  {
   "cell_type": "markdown",
   "id": "7cf5aee8",
   "metadata": {},
   "source": [
    "### numpy array opration and "
   ]
  },
  {
   "cell_type": "code",
   "execution_count": 14,
   "id": "d79a2c35",
   "metadata": {},
   "outputs": [],
   "source": [
    "import numpy as np"
   ]
  },
  {
   "cell_type": "code",
   "execution_count": 15,
   "id": "9ff11d43",
   "metadata": {},
   "outputs": [
    {
     "name": "stdout",
     "output_type": "stream",
     "text": [
      "basic array :  [ 0  1  2  3  4  5  6  7  8  9 10]\n"
     ]
    }
   ],
   "source": [
    "arr = np.arange(11)\n",
    "print(\"basic array : \",arr)"
   ]
  },
  {
   "cell_type": "markdown",
   "id": "7861ffa4",
   "metadata": {},
   "source": [
    "### basic slicing"
   ]
  },
  {
   "cell_type": "code",
   "execution_count": null,
   "id": "e1e81a83",
   "metadata": {},
   "outputs": [
    {
     "name": "stdout",
     "output_type": "stream",
     "text": [
      "Basic Slicing :  [3 4 5]\n",
      "With Stap :  [3 5]\n",
      "Nagative Indexing :  3\n",
      "slicing to step of element :  [3 5]\n"
     ]
    }
   ],
   "source": [
    "print(\"Basic Slicing : \",arr[2:7])\n",
    "print(\"With Stap : \",arr[2:10:2])\n",
    "print(\"Nagative Indexing : \",arr[-3])\n",
    "print(\"slicing to step of element : \",arr[2:8:2]) # [start:end:step]."
   ]
  },
  {
   "cell_type": "code",
   "execution_count": 17,
   "id": "25a7a433",
   "metadata": {},
   "outputs": [
    {
     "name": "stdout",
     "output_type": "stream",
     "text": [
      "Specific element 6\n",
      "Specific element :  6\n",
      "Entire row :  [4 5 6]\n",
      "Entire column :  [2 5 8]\n",
      "Entire row select and column sliceing :  [5 6]\n",
      "Entire column select and row sliceing [5 8]\n",
      "Entire column sliceing and row sliceing \n",
      " [[4 5 6]\n",
      " [7 8 9]]\n"
     ]
    }
   ],
   "source": [
    "arr_2d = np.array([[1,2,3],\n",
    "                   [4,5,6],\n",
    "                   [7,8,9]])\n",
    "\n",
    "# slicing in 2d array \n",
    "print(\"Specific element\",arr_2d[1][2])\n",
    "# ********** or ***********\n",
    "print(\"Specific element : \",arr_2d[1,2])\n",
    "print(\"Entire row : \",arr_2d[1])\n",
    "print(\"Entire column : \",arr_2d[:,1]) # : it is use to all row \n",
    "print(\"Entire row select and column sliceing : \",arr_2d[1,1:3]) \n",
    "print(\"Entire column select and row sliceing\",arr_2d[1:3,1])\n",
    "print(\"Entire column sliceing and row sliceing \\n\",arr_2d[1:3,0:3])"
   ]
  },
  {
   "cell_type": "markdown",
   "id": "036a6dc1",
   "metadata": {},
   "source": [
    "### sorting"
   ]
  },
  {
   "cell_type": "code",
   "execution_count": 18,
   "id": "3135f662",
   "metadata": {},
   "outputs": [
    {
     "name": "stdout",
     "output_type": "stream",
     "text": [
      "sort array :  [1 2 3 4 5 7 8 9]\n",
      "sorted 2d array row : \n",
      " [[1 1]\n",
      " [2 2]\n",
      " [3 3]]\n",
      "sorted 2d array column : \n",
      " [[1 3]\n",
      " [1 2]\n",
      " [2 3]]\n"
     ]
    }
   ],
   "source": [
    "unsorted = np.array([3,5,1,4,7,9,8,2])\n",
    "print(\"sort array : \",np.sort(unsorted))\n",
    "\n",
    "arr_2d_unsorted = np.array([[3,1],[1,2],[2,3]])\n",
    "print(\"sorted 2d array row : \\n\",np.sort(arr_2d_unsorted,axis=0)) # sort data in row wise\n",
    "print(\"sorted 2d array column : \\n\",np.sort(arr_2d_unsorted,axis=1)) # sort daya in column wise"
   ]
  },
  {
   "cell_type": "markdown",
   "id": "ee24353f",
   "metadata": {},
   "source": [
    "### filter"
   ]
  },
  {
   "cell_type": "code",
   "execution_count": 19,
   "id": "bd9627dd",
   "metadata": {},
   "outputs": [
    {
     "name": "stdout",
     "output_type": "stream",
     "text": [
      "[ 1  2  3  4  5  6  7  8  9 10]\n",
      "Even number :  [ 2  4  6  8 10]\n"
     ]
    }
   ],
   "source": [
    "numbers = np.arange(1,11)\n",
    "print(numbers)\n",
    "\n",
    "even_number = numbers[numbers % 2 == 0] # condition pass ans condition true and return array elament\n",
    "# it is same to np.where()\n",
    "print(\"Even number : \",even_number)"
   ]
  },
  {
   "cell_type": "markdown",
   "id": "dc5d8a3f",
   "metadata": {},
   "source": [
    "### filter with mask"
   ]
  },
  {
   "cell_type": "code",
   "execution_count": 20,
   "id": "59ad2616",
   "metadata": {},
   "outputs": [
    {
     "name": "stdout",
     "output_type": "stream",
     "text": [
      "numbers grater then five  [ 6  7  8  9 10]\n"
     ]
    }
   ],
   "source": [
    "mask = numbers > 5\n",
    "print(\"numbers grater then five \",numbers[mask]) # condition pass ans condition true and return array elament"
   ]
  },
  {
   "cell_type": "markdown",
   "id": "f8280055",
   "metadata": {},
   "source": [
    "### fancy indexing vs np.where()"
   ]
  },
  {
   "cell_type": "code",
   "execution_count": 28,
   "id": "0569274a",
   "metadata": {},
   "outputs": [
    {
     "name": "stdout",
     "output_type": "stream",
     "text": [
      "[0, 2, 4]\n",
      "[1 3 5]\n",
      "[2 5 7]\n",
      "(array([5, 6, 7, 8, 9]),)\n",
      "Np where [ 6  7  8  9 10]\n"
     ]
    }
   ],
   "source": [
    "indexing = [0,2,4] # index store\n",
    "print(indexing) # store index in indexing variable and print\n",
    "print(numbers[indexing]) # indexing pass and index value return\n",
    "print(numbers[[1,4,6]])\n",
    "\n",
    "# condition pass to array and return true array elament\n",
    "where_result = np.where(numbers > 5) # it is same to filter mask and \n",
    "print(where_result) # where_result store index \n",
    "print(\"Np where\",numbers[where_result])"
   ]
  },
  {
   "cell_type": "code",
   "execution_count": 22,
   "id": "1d71d3ba",
   "metadata": {},
   "outputs": [
    {
     "name": "stdout",
     "output_type": "stream",
     "text": [
      "[ 1  2  3  4  5 12 14 16 18 20]\n"
     ]
    }
   ],
   "source": [
    "condition_array = np.where(numbers > 5,numbers*2,numbers)\n",
    "# condition_array = np.where(condition, x(true), y(false))\n",
    "# If number > 5 → multiply by 2\n",
    "# Else → keep the same number\n",
    "print(condition_array)"
   ]
  },
  {
   "cell_type": "markdown",
   "id": "49a1114f",
   "metadata": {},
   "source": [
    "### adding and removing data"
   ]
  },
  {
   "cell_type": "code",
   "execution_count": 23,
   "id": "950c9f1a",
   "metadata": {},
   "outputs": [
    {
     "name": "stdout",
     "output_type": "stream",
     "text": [
      "[1 2 3 4 5 6]\n"
     ]
    }
   ],
   "source": [
    "arr1 = np.array([1,2,3])\n",
    "arr2 = np.array([4,5,6])\n",
    "\n",
    "combined = np.concatenate((arr1,arr2)) \n",
    "print(combined)"
   ]
  },
  {
   "cell_type": "markdown",
   "id": "5ffe45f7",
   "metadata": {},
   "source": [
    "### array compatibilty"
   ]
  },
  {
   "cell_type": "code",
   "execution_count": 24,
   "id": "f09b46aa",
   "metadata": {},
   "outputs": [
    {
     "name": "stdout",
     "output_type": "stream",
     "text": [
      "Comatibility shape False\n",
      "Comatibility shape True\n"
     ]
    }
   ],
   "source": [
    "a = np.array([1,2,3])\n",
    "b = np.array([4,5,6,7])\n",
    "c = np.array([7,8,9])\n",
    "\n",
    "print(\"Comatibility shape\",a.shape == b.shape)\n",
    "print(\"Comatibility shape\",a.shape == c.shape)"
   ]
  },
  {
   "cell_type": "code",
   "execution_count": 25,
   "id": "64212be6",
   "metadata": {},
   "outputs": [
    {
     "name": "stdout",
     "output_type": "stream",
     "text": [
      "add new row :\n",
      " [[1 2]\n",
      " [3 4]\n",
      " [5 6]]\n",
      "add new column :\n",
      " [[1 2 7]\n",
      " [3 4 8]]\n"
     ]
    }
   ],
   "source": [
    "original = np.array([[1 , 2],[3 , 4]])\n",
    "new_row = np.array([[5 , 6]])\n",
    "\n",
    "# vstack is add to row\n",
    "with_new_row = np.vstack((original,new_row))\n",
    "print(\"add new row :\\n\",with_new_row)\n",
    "\n",
    "# hstack is add to column\n",
    "new_column = np.array([[7],[8]])\n",
    "with_new_col = np.hstack((original,new_column))\n",
    "print(\"add new column :\\n\",with_new_col)"
   ]
  },
  {
   "cell_type": "markdown",
   "id": "069f5c60",
   "metadata": {},
   "source": [
    "### removeing"
   ]
  },
  {
   "cell_type": "code",
   "execution_count": null,
   "id": "a96884ab",
   "metadata": {},
   "outputs": [
    {
     "name": "stdout",
     "output_type": "stream",
     "text": [
      "array after deleted :  [1 2 3 5]\n"
     ]
    }
   ],
   "source": [
    "arr = np.array([1,2,3,4,5])\n",
    "deleted = np.delete(arr,3)\n",
    "print(\"array after deleted : \",deleted) # return to array all element after deleted value"
   ]
  }
 ],
 "metadata": {
  "kernelspec": {
   "display_name": "venv",
   "language": "python",
   "name": "python3"
  },
  "language_info": {
   "codemirror_mode": {
    "name": "ipython",
    "version": 3
   },
   "file_extension": ".py",
   "mimetype": "text/x-python",
   "name": "python",
   "nbconvert_exporter": "python",
   "pygments_lexer": "ipython3",
   "version": "3.13.3"
  }
 },
 "nbformat": 4,
 "nbformat_minor": 5
}
