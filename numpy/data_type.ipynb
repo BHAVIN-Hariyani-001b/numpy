{
 "cells": [
  {
   "cell_type": "code",
   "execution_count": 55,
   "id": "1bc5cc69",
   "metadata": {},
   "outputs": [],
   "source": [
    "import numpy as np"
   ]
  },
  {
   "cell_type": "code",
   "execution_count": 56,
   "id": "20083965",
   "metadata": {},
   "outputs": [
    {
     "name": "stdout",
     "output_type": "stream",
     "text": [
      "[0 1 2 3 4]\n"
     ]
    }
   ],
   "source": [
    "arr = np.arange(5,dtype=np.uint8)\n",
    "print(arr)"
   ]
  },
  {
   "cell_type": "code",
   "execution_count": 57,
   "id": "a65ccd0c",
   "metadata": {},
   "outputs": [
    {
     "name": "stdout",
     "output_type": "stream",
     "text": [
      "[1. 2. 3.]\n",
      "[4. 5. 6.]\n",
      "[4 5 6]\n"
     ]
    }
   ],
   "source": [
    "a = np.array([1,2,3],dtype='f') #  float32\n",
    "# a = np.array([1,2,3],dtype=np.float32)  \n",
    "print(a) ## float32\n",
    "\n",
    "b = np.array([4,5,6],dtype='d')\n",
    "# b = np.array([4,5,6],dtype=np.float64)\n",
    "print(b) # float64\n",
    "\n",
    "c = b.astype(np.int64) # change datatype\n",
    "print(c)"
   ]
  },
  {
   "cell_type": "code",
   "execution_count": 58,
   "id": "a4323b13",
   "metadata": {},
   "outputs": [
    {
     "data": {
      "text/plain": [
       "True"
      ]
     },
     "execution_count": 58,
     "metadata": {},
     "output_type": "execute_result"
    }
   ],
   "source": [
    "arr = np.arange(3,dtype=np.float64)\n",
    "np.issubdtype(arr.dtype,np.integer) # False\n",
    "np.issubdtype(arr.dtype,np.floating) # True"
   ]
  },
  {
   "cell_type": "code",
   "execution_count": 70,
   "id": "246115b4",
   "metadata": {},
   "outputs": [
    {
     "name": "stdout",
     "output_type": "stream",
     "text": [
      "['hello' 'world']\n",
      "<U6\n",
      "['hello' 'world']\n",
      "['hello' 'world']\n"
     ]
    }
   ],
   "source": [
    "# string \n",
    "arrStr = np.array([\"hello\",\"world\"],dtype='<U6')\n",
    "print(arrStr)\n",
    "print(arrStr.dtype) # max to 6 code long\n",
    "\n",
    "arrStr2 = np.array(['hello','world'],dtype='U5')\n",
    "print(arrStr2)\n",
    "arrStr2 = np.array(['hello','world'],dtype='U7')\n",
    "print(arrStr2)\n"
   ]
  }
 ],
 "metadata": {
  "kernelspec": {
   "display_name": "venv",
   "language": "python",
   "name": "python3"
  },
  "language_info": {
   "codemirror_mode": {
    "name": "ipython",
    "version": 3
   },
   "file_extension": ".py",
   "mimetype": "text/x-python",
   "name": "python",
   "nbconvert_exporter": "python",
   "pygments_lexer": "ipython3",
   "version": "3.13.3"
  }
 },
 "nbformat": 4,
 "nbformat_minor": 5
}
