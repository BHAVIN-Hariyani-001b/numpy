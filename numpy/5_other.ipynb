{
 "cells": [
  {
   "cell_type": "code",
   "execution_count": 2,
   "id": "e6c87ab2",
   "metadata": {},
   "outputs": [],
   "source": [
    "import numpy as np\n",
    "import matplotlib.pyplot as plt"
   ]
  },
  {
   "cell_type": "code",
   "execution_count": 3,
   "id": "218d1f12",
   "metadata": {},
   "outputs": [
    {
     "name": "stdout",
     "output_type": "stream",
     "text": [
      "unique value :  [1 2 3 4 5 6 8]\n",
      "unique value index :  (array([1, 2, 3, 4, 5, 6, 8]), array([0, 1, 2, 3, 5, 8, 9]))\n",
      "unique value counts :  (array([1, 2, 3, 4, 5, 6, 8]), array([2, 1, 3, 1, 1, 1, 1]))\n"
     ]
    }
   ],
   "source": [
    "arr = np.array([1,2,3,4,1,5,3,3,6,8])\n",
    "\n",
    "unique = np.unique(arr) # it is return unique value return to array\n",
    "print(\"unique value : \",unique)\n",
    "\n",
    "unique_value_index = np.unique(arr,return_index=True)\n",
    "print(\"unique value index : \",unique_value_index)\n",
    "\n",
    "unique_value_counts = np.unique(arr,return_counts=True)\n",
    "print(\"unique value counts : \",unique_value_counts)\n"
   ]
  },
  {
   "cell_type": "code",
   "execution_count": 4,
   "id": "1d742678",
   "metadata": {},
   "outputs": [
    {
     "name": "stdout",
     "output_type": "stream",
     "text": [
      "[[ 1  2  3  4]\n",
      " [ 5  6  7  8]\n",
      " [ 9 10 11 12]]\n",
      "[[ 1  5  9]\n",
      " [ 2  6 10]\n",
      " [ 3  7 11]\n",
      " [ 4  8 12]]\n",
      "[[ 1  5  9]\n",
      " [ 2  6 10]\n",
      " [ 3  7 11]\n",
      " [ 4  8 12]]\n"
     ]
    }
   ],
   "source": [
    "arr = np.arange(1,13)\n",
    "print(arr := arr.reshape((3,4)))\n",
    "\n",
    "print(arr.T) # it is same to row to col and col to row it is transpose \n",
    "print(arr.transpose())\n"
   ]
  },
  {
   "cell_type": "code",
   "execution_count": 5,
   "id": "b70e5ebd",
   "metadata": {},
   "outputs": [
    {
     "name": "stdout",
     "output_type": "stream",
     "text": [
      "[[ 1  2  3  4]\n",
      " [ 5  6  7  8]\n",
      " [ 9 10 11 12]]\n",
      "[[12 11 10  9]\n",
      " [ 8  7  6  5]\n",
      " [ 4  3  2  1]]\n",
      "[5 6 7 8]\n",
      "[ 3  7 11]\n",
      "[12 11 10  9  8  7  6  5  4  3  2  1]\n",
      "[12 11 10  9  8  7  6  5  4  3  2  1]\n",
      "No Python documentation found for \"Return a contiguous flattened array.\\n\\nA 1-D array, containing the elements of the input, is returned.  A copy is\\nmade only if needed.\\n\\nAs of NumPy 1.10, the returned array will have the same type as the input\\narray. (for example, a masked array will be returned for a masked array\\ninput)\\n\\nParameters\\n----------\\na : array_like\\n    Input array.  The elements in `a` are read in the order specified by\\n    `order`, and packed as a 1-D array.\\norder : {'C','F', 'A', 'K'}, optional\\n\\n    The elements of `a` are read using this index order. 'C' means\\n    to index the elements in row-major, C-style order,\\n    with the last axis index changing fastest, back to the first\\n    axis index changing slowest.  'F' means to index the elements\\n    in column-major, Fortran-style order, with the\\n    first index changing fastest, and the last index changing\\n    slowest. Note that the 'C' and 'F' options take no account of\\n    the memory layout of the underlying array, and only refer to\\n    the order of axis indexing.  'A' means to read the elements in\\n    Fortran-like index order if `a` is Fortran *contiguous* in\\n    memory, C-like order otherwise.  'K' means to read the\\n    elements in the order they occur in memory, except for\\n    reversing the data when strides are negative.  By default, 'C'\\n    index order is used.\\n\\nReturns\\n-------\\ny : array_like\\n    y is a contiguous 1-D array of the same subtype as `a`,\\n    with shape ``(a.size,)``.\\n    Note that matrices are special cased for backward compatibility,\\n    if `a` is a matrix, then y is a 1-D ndarray.\\n\\nSee Also\\n--------\\nndarray.flat : 1-D iterator over an array.\\nndarray.flatten : 1-D array copy of the elements of an array\\n                  in row-major order.\\nndarray.reshape : Change the shape of an array without changing its data.\\n\\nNotes\\n-----\\nIn row-major, C-style order, in two dimensions, the row index\\nvaries the slowest, and the column index the quickest.  This can\\nbe generalized to multiple dimensions, where row-major order\\nimplies that the index along the first axis varies slowest, and\\nthe index along the last quickest.  The opposite holds for\\ncolumn-major, Fortran-style index ordering.\\n\\nWhen a view is desired in as many cases as possible, ``arr.reshape(-1)``\\nmay be preferable. However, ``ravel`` supports ``K`` in the optional\\n``order`` argument while ``reshape`` does not.\\n\\nExamples\\n--------\\nIt is equivalent to ``reshape(-1, order=order)``.\\n\\n>>> import numpy as np\\n>>> x = np.array([[1, 2, 3], [4, 5, 6]])\\n>>> np.ravel(x)\\narray([1, 2, 3, 4, 5, 6])\\n\\n>>> x.reshape(-1)\\narray([1, 2, 3, 4, 5, 6])\\n\\n>>> np.ravel(x, order='F')\\narray([1, 4, 2, 5, 3, 6])\\n\\nWhen ``order`` is 'A', it will preserve the array's 'C' or 'F' ordering:\\n\\n>>> np.ravel(x.T)\\narray([1, 4, 2, 5, 3, 6])\\n>>> np.ravel(x.T, order='A')\\narray([1, 2, 3, 4, 5, 6])\\n\\nWhen ``order`` is 'K', it will preserve orderings that are neither 'C'\\nnor 'F', but won't reverse axes:\\n\\n>>> a = np.arange(3)[::-1]; a\\narray([2, 1, 0])\\n>>> a.ravel(order='C')\\narray([2, 1, 0])\\n>>> a.ravel(order='K')\\narray([2, 1, 0])\\n\\n>>> a = np.arange(12).reshape(2,3,2).swapaxes(1,2); a\\narray([[[ 0,  2,  4],\\n        [ 1,  3,  5]],\\n       [[ 6,  8, 10],\\n        [ 7,  9, 11]]])\\n>>> a.ravel(order='C')\\narray([ 0,  2,  4,  1,  3,  5,  6,  8, 10,  7,  9, 11])\\n>>> a.ravel(order='K')\\narray([ 0,  1,  2,  3,  4,  5,  6,  7,  8,  9, 10, 11])\".\n",
      "Use help() to get the interactive help utility.\n",
      "Use help(str) for help on the str class.\n",
      "\n"
     ]
    }
   ],
   "source": [
    "# reverse array\n",
    "arr = np.arange(1,13)\n",
    "print(arr := arr.reshape(3,4))\n",
    "\n",
    "print(arr := np.flip(arr)) # reverse array \n",
    "print(np.flip(arr[1])) # reverse one row \n",
    "print(np.flip(arr[:,1])) # reverse one column\n",
    "\n",
    "# flatten array\n",
    "\n",
    "print(arr.flatten()) # is not Original array it not affect to memory\n",
    "print(arr.ravel()) # Original array it affect to memory\n",
    "\n",
    "\n",
    "help(np.ravel.__doc__)"
   ]
  },
  {
   "cell_type": "code",
   "execution_count": 6,
   "id": "47d54976",
   "metadata": {},
   "outputs": [
    {
     "name": "stdout",
     "output_type": "stream",
     "text": [
      "[[     1 150000 180000 220000 250000]\n",
      " [     2 120000 140000 160000 190000]\n",
      " [     3 200000 230000 260000 300000]\n",
      " [     4 180000 210000 240000 270000]\n",
      " [     5 160000 185000 205000 230000]]\n"
     ]
    }
   ],
   "source": [
    "# how to save and load numpy array\n",
    "sales_data = np.array([\n",
    "    [1, 150000, 180000, 220000, 250000],  # Paradise Biryani\n",
    "    [2, 120000, 140000, 160000, 190000],  # Beijing Bites\n",
    "    [3, 200000, 230000, 260000, 300000],  # Pizza Hub\n",
    "    [4, 180000, 210000, 240000, 270000],  # Burger Point\n",
    "    [5, 160000, 185000, 205000, 230000]   # Chai Point\n",
    "])\n",
    "\n",
    "np.savetxt(\"zometo_data.csv\",sales_data,delimiter=\",\", fmt=\"%d\") # sava to csv file \n",
    "\n",
    "data = np.loadtxt('zometo_data.csv', delimiter=\",\", dtype=int) # load csv file and\n",
    "print(data)"
   ]
  },
  {
   "cell_type": "code",
   "execution_count": 8,
   "id": "2c7a2ba1",
   "metadata": {},
   "outputs": [
    {
     "data": {
      "image/png": "[encoded data removed]",
      "text/plain": [
       "<Figure size 700x500 with 1 Axes>"
      ]
     },
     "metadata": {},
     "output_type": "display_data"
    }
   ],
   "source": [
    "a = np.array([2, 1, 5, 7, 4, 6, 8, 14, 10, 9, 18, 20, 22])\n",
    "\n",
    "plt.figure(figsize=(7,5))\n",
    "plt.plot(a)\n",
    "plt.show()"
   ]
  }
 ],
 "metadata": {
  "kernelspec": {
   "display_name": "venv",
   "language": "python",
   "name": "python3"
  },
  "language_info": {
   "codemirror_mode": {
    "name": "ipython",
    "version": 3
   },
   "file_extension": ".py",
   "mimetype": "text/x-python",
   "name": "python",
   "nbconvert_exporter": "python",
   "pygments_lexer": "ipython3",
   "version": "3.13.3"
  }
 },
 "nbformat": 4,
 "nbformat_minor": 5
}
