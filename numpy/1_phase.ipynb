{
 "cells": [
  {
   "cell_type": "code",
   "execution_count": 1,
   "id": "006810c1",
   "metadata": {},
   "outputs": [],
   "source": [
    "## numpy basic "
   ]
  },
  {
   "cell_type": "code",
   "execution_count": 2,
   "id": "131c080d",
   "metadata": {},
   "outputs": [],
   "source": [
    "import numpy as np\n",
    "import time"
   ]
  },
  {
   "cell_type": "markdown",
   "id": "76c48648",
   "metadata": {},
   "source": [
    "### create simple array using numpy "
   ]
  },
  {
   "cell_type": "code",
   "execution_count": 3,
   "id": "9ce779aa",
   "metadata": {},
   "outputs": [
    {
     "name": "stdout",
     "output_type": "stream",
     "text": [
      "one d array : [1 2 3 4 5]\n",
      "two d array : [[1 2 3]\n",
      " [4 5 6]]\n"
     ]
    }
   ],
   "source": [
    "arr = np.array([1,2,3,4,5]) # createing array for list\n",
    "print(f\"one d array : {arr}\")\n",
    "\n",
    "arr_2d = np.array([[1,2,3],[4,5,6]])\n",
    "print(f\"two d array : {arr_2d}\")"
   ]
  },
  {
   "cell_type": "markdown",
   "id": "be808ab4",
   "metadata": {},
   "source": [
    "### list vs array"
   ]
  },
  {
   "cell_type": "code",
   "execution_count": 4,
   "id": "1a42f2dc",
   "metadata": {},
   "outputs": [
    {
     "name": "stdout",
     "output_type": "stream",
     "text": [
      "python list multiplication :  [1, 2, 3, 1, 2, 3]\n",
      "numpy array  multiplication :  [2 4 6]\n"
     ]
    }
   ],
   "source": [
    "py_list = [1, 2, 3]\n",
    "print(\"python list multiplication : \",py_list * 2)\n",
    "\n",
    "np_array = np.array([1, 2, 3]) # element wise multiplication\n",
    "print(\"numpy array  multiplication : \",np_array * 2)"
   ]
  },
  {
   "cell_type": "code",
   "execution_count": 5,
   "id": "5558b409",
   "metadata": {},
   "outputs": [
    {
     "name": "stdout",
     "output_type": "stream",
     "text": [
      "list opration time 0.0986337661743164\n",
      "numpy opration time 0.011084794998168945\n"
     ]
    }
   ],
   "source": [
    "start = time.time()\n",
    "py_list = [i*2 for i in range(1000000)]\n",
    "# print(py_list)\n",
    "print(\"list opration time\",time.time() - start)\n",
    "\n",
    "start = time.time()\n",
    "np_array = np.arange(1000000) * 2\n",
    "# print(np_array)\n",
    "print(\"numpy opration time\",time.time() - start)"
   ]
  },
  {
   "cell_type": "markdown",
   "id": "a2449f89",
   "metadata": {},
   "source": [
    "### creating array from scratch"
   ]
  },
  {
   "cell_type": "code",
   "execution_count": 6,
   "id": "db272a87",
   "metadata": {},
   "outputs": [
    {
     "name": "stdout",
     "output_type": "stream",
     "text": [
      "zeros array : \n",
      " [[0. 0. 0. 0.]\n",
      " [0. 0. 0. 0.]\n",
      " [0. 0. 0. 0.]]\n",
      "ones array : \n",
      " [[1. 1. 1.]\n",
      " [1. 1. 1.]]\n",
      "full array : \n",
      " [[7 7]\n",
      " [7 7]]\n",
      "random array : \n",
      " [[0.7603413  0.79489207 0.86579388]\n",
      " [0.58553845 0.44530438 0.73959239]]\n",
      "sequence array : \n",
      " [0 2 4 6 8]\n"
     ]
    }
   ],
   "source": [
    "zeros = np.zeros((3,4))\n",
    "print(\"zeros array : \\n\",zeros)\n",
    "\n",
    "ones = np.ones((2,3))\n",
    "print(\"ones array : \\n\",ones)\n",
    "\n",
    "full = np.full((2,2),7)\n",
    "print(\"full array : \\n\",full)\n",
    "\n",
    "random = np.random.random((2,3))\n",
    "print(\"random array : \\n\",random)\n",
    "\n",
    "sequence = np.arange(0,10,2)\n",
    "print(\"sequence array : \\n\",sequence)"
   ]
  },
  {
   "cell_type": "markdown",
   "id": "3ea3ec95",
   "metadata": {},
   "source": [
    "### vector,matrix and tensor"
   ]
  },
  {
   "cell_type": "code",
   "execution_count": 7,
   "id": "31b47568",
   "metadata": {},
   "outputs": [
    {
     "name": "stdout",
     "output_type": "stream",
     "text": [
      "vector :  [1 2 3]\n",
      "matrix : \n",
      " [[1 2 3]\n",
      " [3 4 5]]\n",
      "tensor : \n",
      " [[[1 2]\n",
      "  [3 4]]\n",
      "\n",
      " [[5 6]\n",
      "  [7 8]]]\n"
     ]
    }
   ],
   "source": [
    "vector = np.array([1,2,3])\n",
    "print(\"vector : \",vector)\n",
    "\n",
    "matrix = np.array([[1,2,3],\n",
    "                   [3,4,5]])\n",
    "print(\"matrix : \\n\",matrix)\n",
    "\n",
    "tensor = np.array([[[1,2],[3,4]],\n",
    "                   [[5,6],[7,8]]])\n",
    "print(\"tensor : \\n\",tensor)"
   ]
  },
  {
   "cell_type": "markdown",
   "id": "a19abeab",
   "metadata": {},
   "source": [
    "### Array properties"
   ]
  },
  {
   "cell_type": "code",
   "execution_count": 8,
   "id": "8965b43e",
   "metadata": {},
   "outputs": [
    {
     "name": "stdout",
     "output_type": "stream",
     "text": [
      "Shape :  (2, 3)\n",
      "Dimension : 2\n",
      "size :  6\n",
      "dtype :  int64\n"
     ]
    }
   ],
   "source": [
    "arr = np.array([[1,2,3],\n",
    "                [4,5,6]])\n",
    "print(\"Shape : \",arr.shape) # it is return to rows and column \n",
    "print(\"Dimension :\",arr.ndim)  # return to dimension\n",
    "print(\"size : \",arr.size) # return to size of array\n",
    "print(\"dtype : \",arr.dtype) # return data type"
   ]
  },
  {
   "cell_type": "markdown",
   "id": "bd91b12b",
   "metadata": {},
   "source": [
    "### Array Reshaping"
   ]
  },
  {
   "cell_type": "code",
   "execution_count": 9,
   "id": "45760031",
   "metadata": {},
   "outputs": [
    {
     "name": "stdout",
     "output_type": "stream",
     "text": [
      "Orignal array :  [ 0  1  2  3  4  5  6  7  8  9 10 11]\n",
      "reshaped array : \n",
      " [[ 0  1  2  3]\n",
      " [ 4  5  6  7]\n",
      " [ 8  9 10 11]]\n",
      "flattened array :  [ 0  1  2  3  4  5  6  7  8  9 10 11]\n",
      "reveled array :  [ 0  1  2  3  4  5  6  7  8  9 10 11]\n",
      "transpose : \n",
      " [[ 0  4  8]\n",
      " [ 1  5  9]\n",
      " [ 2  6 10]\n",
      " [ 3  7 11]]\n"
     ]
    }
   ],
   "source": [
    "arr = np.arange(12)\n",
    "print(\"Orignal array : \",arr)\n",
    "\n",
    "# reshape **\n",
    "\n",
    "reshaped = arr.reshape((3,4))\n",
    "print(\"reshaped array : \\n\",reshaped)\n",
    "\n",
    "flattened = reshaped.flatten() # return copy of array\n",
    "print(\"flattened array : \",flattened)\n",
    "\n",
    "reveled = reshaped.ravel() # return orignal array\n",
    "print(\"reveled array : \",reveled)\n",
    "\n",
    "# transpose\n",
    "\n",
    "transpose = reshaped.T\n",
    "print(\"transpose : \\n\",transpose)"
   ]
  }
 ],
 "metadata": {
  "kernelspec": {
   "display_name": "venv",
   "language": "python",
   "name": "python3"
  },
  "language_info": {
   "codemirror_mode": {
    "name": "ipython",
    "version": 3
   },
   "file_extension": ".py",
   "mimetype": "text/x-python",
   "name": "python",
   "nbconvert_exporter": "python",
   "pygments_lexer": "ipython3",
   "version": "3.13.3"
  }
 },
 "nbformat": 4,
 "nbformat_minor": 5
}
