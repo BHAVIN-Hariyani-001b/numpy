{
 "cells": [
  {
   "cell_type": "code",
   "execution_count": 21,
   "id": "cff9da73",
   "metadata": {},
   "outputs": [],
   "source": [
    "import numpy as np"
   ]
  },
  {
   "cell_type": "code",
   "execution_count": 22,
   "id": "34b46bf3",
   "metadata": {},
   "outputs": [],
   "source": [
    "# 3 restaurants, 7 days of sales\n",
    "# Rows = restaurants, Columns = days\n",
    "sales = np.array([\n",
    "    [1500, 1800, 1700, 1600, 2000, 2100, 1900],  # Restaurant A\n",
    "    [1200, 1300, 1250, 1400, 1500, 1600, 1550],  # Restaurant B\n",
    "    [2000, 2200, 2100, 2300, 2400, 2500, 2600]   # Restaurant C\n",
    "])"
   ]
  },
  {
   "cell_type": "code",
   "execution_count": 23,
   "id": "36e99917",
   "metadata": {},
   "outputs": [
    {
     "name": "stdout",
     "output_type": "stream",
     "text": [
      "Total Revene For Restaurants :  [12600  9800 16100]\n"
     ]
    }
   ],
   "source": [
    "# find total Revenue for each restaurants\n",
    "total_rev = np.sum(sales,axis=1)\n",
    "print(\"Total Revene For Restaurants : \",total_rev)"
   ]
  },
  {
   "cell_type": "code",
   "execution_count": 24,
   "id": "8199925d",
   "metadata": {},
   "outputs": [
    {
     "name": "stdout",
     "output_type": "stream",
     "text": [
      "average sales per restaurants :  [1800. 1400. 2300.]\n"
     ]
    }
   ],
   "source": [
    "# find average sales per restaurants\n",
    "avg_salse = np.mean(sales,axis=1)\n",
    "print(\"average sales per restaurants : \",avg_salse)"
   ]
  },
  {
   "cell_type": "code",
   "execution_count": null,
   "id": "2688e1e0",
   "metadata": {},
   "outputs": [
    {
     "name": "stdout",
     "output_type": "stream",
     "text": [
      "Restaurant 1 best day: Day 6 with sales 2100\n",
      "Restaurant 2 best day: Day 6 with sales 1600\n",
      "Restaurant 3 best day: Day 7 with sales 2600\n"
     ]
    }
   ],
   "source": [
    "# Best Day (Highest Sales) per Restaurant\n",
    "best_day_index = np.argmax(sales,axis=1)\n",
    "best_day_salse = np.max(sales,axis=1)\n",
    "\n",
    "for i,(day,sale) in enumerate(zip(best_day_index,best_day_salse)):\n",
    "    print(f\"Restaurant {i+1} best day: Day {day+1} with sales {sale}\")"
   ]
  },
  {
   "cell_type": "code",
   "execution_count": 28,
   "id": "b242802a",
   "metadata": {},
   "outputs": [
    {
     "name": "stdout",
     "output_type": "stream",
     "text": [
      "Overall total revenue: 38500\n",
      "Overall average sales: 1833.3333333333333\n"
     ]
    }
   ],
   "source": [
    "# Overall Analysis\n",
    "overall_total_salse = np.sum(sales)\n",
    "overall_avg_salse = np.mean(sales)\n",
    "print(\"Overall total revenue:\",overall_total_salse)\n",
    "print(\"Overall average sales:\", overall_avg_salse)"
   ]
  }
 ],
 "metadata": {
  "kernelspec": {
   "display_name": "venv",
   "language": "python",
   "name": "python3"
  },
  "language_info": {
   "codemirror_mode": {
    "name": "ipython",
    "version": 3
   },
   "file_extension": ".py",
   "mimetype": "text/x-python",
   "name": "python",
   "nbconvert_exporter": "python",
   "pygments_lexer": "ipython3",
   "version": "3.13.3"
  }
 },
 "nbformat": 4,
 "nbformat_minor": 5
}
