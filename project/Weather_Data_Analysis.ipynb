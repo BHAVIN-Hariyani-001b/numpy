{
 "cells": [
  {
   "cell_type": "code",
   "execution_count": 16,
   "id": "5083ef97",
   "metadata": {},
   "outputs": [],
   "source": [
    "import numpy as np"
   ]
  },
  {
   "cell_type": "code",
   "execution_count": 17,
   "id": "3ca0f33c",
   "metadata": {},
   "outputs": [],
   "source": [
    "# temperatures of a city for a month (30 days)\n",
    "temperatures = np.array([32, 34, 31, 30, 29, 35, 36, 33, 32, 31,\n",
    "                         30, 29, 28, 32, 33, 34, 35, 36, 37, 32,\n",
    "                         31, 30, 33, 34, 35, 36, 37, 38, 36, 35])"
   ]
  },
  {
   "cell_type": "markdown",
   "id": "64150758",
   "metadata": {},
   "source": [
    "### Find the Hottest Day"
   ]
  },
  {
   "cell_type": "code",
   "execution_count": 20,
   "id": "318d234e",
   "metadata": {},
   "outputs": [
    {
     "name": "stdout",
     "output_type": "stream",
     "text": [
      "hottest temperatures :  38\n",
      "hottest temperatures day :  28\n",
      "hottest temperatures 38°C on day 28 \n"
     ]
    }
   ],
   "source": [
    "# find the max temperatures\n",
    "hottest_temp = np.max(temperatures)\n",
    "print(\"hottest temperatures : \",hottest_temp)\n",
    "hottest_temp_day = np.argmax(temperatures) + 1 # +1 because day starts from 1\n",
    "print(\"hottest temperatures day : \",hottest_temp_day)\n",
    "\n",
    "print(f\"hottest temperatures {hottest_temp}°C on day {hottest_temp_day} \")"
   ]
  },
  {
   "cell_type": "markdown",
   "id": "4dc3b265",
   "metadata": {},
   "source": [
    "### Find the Coldest Day"
   ]
  },
  {
   "cell_type": "code",
   "execution_count": 21,
   "id": "ce29e3a5",
   "metadata": {},
   "outputs": [
    {
     "name": "stdout",
     "output_type": "stream",
     "text": [
      "coldest temperatures :  28\n",
      "coldest temperatures day :  12\n",
      "coldest temperatures 28°C on day 12\n"
     ]
    }
   ],
   "source": [
    "# find the coldest day\n",
    "coldest_temp = np.min(temperatures)\n",
    "print(\"coldest temperatures : \",coldest_temp)\n",
    "coldest_temp_day = np.argmin(temperatures)\n",
    "print(\"coldest temperatures day : \",coldest_temp_day)\n",
    "\n",
    "print(f\"coldest temperatures {coldest_temp}°C on day {coldest_temp_day}\")\n"
   ]
  },
  {
   "cell_type": "markdown",
   "id": "54f4b5da",
   "metadata": {},
   "source": [
    "### Calculate Average Temperature"
   ]
  },
  {
   "cell_type": "code",
   "execution_count": 26,
   "id": "b8f88434",
   "metadata": {},
   "outputs": [
    {
     "name": "stdout",
     "output_type": "stream",
     "text": [
      "average temperatures of the month : 33.13\n",
      "average temperatures of the month : 33.13\n"
     ]
    }
   ],
   "source": [
    "# calculate avg of temp\n",
    "avg_temp = np.mean(temperatures)\n",
    "print(f\"average temperatures of the month : {avg_temp:.2f}\")\n",
    "print(f\"average temperatures of the month : {avg_temp.round(2)}\")"
   ]
  },
  {
   "cell_type": "code",
   "execution_count": 27,
   "id": "c6ade6ea",
   "metadata": {},
   "outputs": [
    {
     "name": "stdout",
     "output_type": "stream",
     "text": [
      "Temperature variation (standard deviation): 2.65\n"
     ]
    }
   ],
   "source": [
    "# Standard Deviation\n",
    "std_temp = np.std(temperatures)\n",
    "print(f\"Temperature variation (standard deviation): {std_temp:.2f}\")"
   ]
  }
 ],
 "metadata": {
  "kernelspec": {
   "display_name": "venv",
   "language": "python",
   "name": "python3"
  },
  "language_info": {
   "codemirror_mode": {
    "name": "ipython",
    "version": 3
   },
   "file_extension": ".py",
   "mimetype": "text/x-python",
   "name": "python",
   "nbconvert_exporter": "python",
   "pygments_lexer": "ipython3",
   "version": "3.13.3"
  }
 },
 "nbformat": 4,
 "nbformat_minor": 5
}
