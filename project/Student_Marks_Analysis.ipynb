{
 "cells": [
  {
   "cell_type": "markdown",
   "id": "ae6001a7",
   "metadata": {},
   "source": [
    "### Student Marks Analysis"
   ]
  },
  {
   "cell_type": "code",
   "execution_count": 42,
   "id": "4c03d1c2",
   "metadata": {},
   "outputs": [],
   "source": [
    "import numpy as np"
   ]
  },
  {
   "cell_type": "code",
   "execution_count": 43,
   "id": "a3c542a8",
   "metadata": {},
   "outputs": [],
   "source": [
    "# Create a NumPy array for student marks (rows = students, cols = subjects)\n",
    "marks = np.array([\n",
    "    [78, 85, 90, 88],   # Student 1\n",
    "    [92, 80, 76, 95],   # Student 2\n",
    "    [60, 65, 70, 72],   # Student 3\n",
    "    [88, 90, 85, 86],   # Student 4\n",
    "    [55, 50, 60, 58]    # Student 5\n",
    "])"
   ]
  },
  {
   "cell_type": "code",
   "execution_count": 44,
   "id": "db6f0df8",
   "metadata": {},
   "outputs": [
    {
     "name": "stdout",
     "output_type": "stream",
     "text": [
      "calculate average mark of student : [85.25 85.75 66.75 87.25 55.75]\n"
     ]
    }
   ],
   "source": [
    "# calculate average mark of student\n",
    "avg_mark = np.mean(marks,axis=1)\n",
    "print(\"calculate average mark of student :\",avg_mark)"
   ]
  },
  {
   "cell_type": "code",
   "execution_count": 45,
   "id": "6d01d69b",
   "metadata": {},
   "outputs": [
    {
     "name": "stdout",
     "output_type": "stream",
     "text": [
      "calculate average mark of student [74.6 74.  76.2 79.8]\n"
     ]
    }
   ],
   "source": [
    "# calculate average mark of student\n",
    "avg_mark_sub = np.mean(marks,axis=0)\n",
    "print(\"calculate average mark of student\",avg_mark_sub)"
   ]
  },
  {
   "cell_type": "code",
   "execution_count": 46,
   "id": "2a984d38",
   "metadata": {},
   "outputs": [
    {
     "name": "stdout",
     "output_type": "stream",
     "text": [
      "find topper mark index :  4\n"
     ]
    }
   ],
   "source": [
    "# find topper mark index\n",
    "total_mark = np.sum(marks,axis=1)\n",
    "topper_mark_idx = np.argmax(total_mark) + 1\n",
    "print(\"find topper mark index : \",topper_mark_idx)"
   ]
  },
  {
   "cell_type": "code",
   "execution_count": 47,
   "id": "e14f5a41",
   "metadata": {},
   "outputs": [
    {
     "name": "stdout",
     "output_type": "stream",
     "text": [
      "Find topper mark :  349\n"
     ]
    }
   ],
   "source": [
    "# find topper mark \n",
    "topper_mark = np.max(total_mark)\n",
    "print(\"Find topper mark : \",topper_mark)"
   ]
  },
  {
   "cell_type": "code",
   "execution_count": 48,
   "id": "008240b9",
   "metadata": {},
   "outputs": [
    {
     "name": "stdout",
     "output_type": "stream",
     "text": [
      "standard deviation of axis 1 :  [4.55 7.95 4.66 1.92 3.77]\n",
      "standard deviation of axis 0 :  [14.77294825 14.62873884 10.6658333  13.21211565]\n"
     ]
    }
   ],
   "source": [
    "marks = np.array([\n",
    "    [78, 85, 90, 88],   # Student 1\n",
    "    [92, 80, 76, 95],   # Student 2\n",
    "    [60, 65, 70, 72],   # Student 3\n",
    "    [88, 90, 85, 86],   # Student 4\n",
    "    [55, 50, 60, 58]    # Student 5\n",
    "])\n",
    "# find standard deviation\n",
    "std = np.std(marks,axis=1)\n",
    "print(\"standard deviation of axis 1 : \",std.round(2))\n",
    "std = np.std(marks,axis=0)\n",
    "print(\"standard deviation of axis 0 : \",std)"
   ]
  },
  {
   "cell_type": "code",
   "execution_count": 49,
   "id": "970db368",
   "metadata": {},
   "outputs": [
    {
     "name": "stdout",
     "output_type": "stream",
     "text": [
      "average mark of student :  [85.25 85.75 66.75 87.25 55.75]\n",
      "average mark for each subject to all student :  [74.6 74.  76.2 79.8]\n",
      "middle value of each student’s marks :  [86.5 86.  67.5 87.  56.5]\n",
      "middle value for each subject  :  [78. 80. 76. 86.]\n"
     ]
    }
   ],
   "source": [
    "# mean and median\n",
    "mean_axis_1 = np.mean(marks,axis=1)\n",
    "print(\"average mark of student : \",mean_axis_1)\n",
    "mean_axis_0 = np.mean(marks,axis=0)\n",
    "print(\"average mark for each subject to all student : \",mean_axis_0)\n",
    "\n",
    "\n",
    "meadin_axis_1 = np.median(marks,axis=1)\n",
    "print(\"middle value of each student’s marks : \",meadin_axis_1)\n",
    "meadin_axis_0 = np.median(marks,axis=0)\n",
    "print(\"middle value for each subject  : \",meadin_axis_0)"
   ]
  }
 ],
 "metadata": {
  "kernelspec": {
   "display_name": "venv",
   "language": "python",
   "name": "python3"
  },
  "language_info": {
   "codemirror_mode": {
    "name": "ipython",
    "version": 3
   },
   "file_extension": ".py",
   "mimetype": "text/x-python",
   "name": "python",
   "nbconvert_exporter": "python",
   "pygments_lexer": "ipython3",
   "version": "3.13.3"
  }
 },
 "nbformat": 4,
 "nbformat_minor": 5
}
