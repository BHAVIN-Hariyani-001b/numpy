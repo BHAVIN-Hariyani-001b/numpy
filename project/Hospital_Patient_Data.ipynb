{
 "cells": [
  {
   "cell_type": "markdown",
   "id": "f81efe1a",
   "metadata": {},
   "source": [
    "### Hospital Patient Data"
   ]
  },
  {
   "cell_type": "code",
   "execution_count": 1,
   "id": "527d0970",
   "metadata": {},
   "outputs": [],
   "source": [
    "import numpy as np"
   ]
  },
  {
   "cell_type": "code",
   "execution_count": 2,
   "id": "4db9c738",
   "metadata": {},
   "outputs": [],
   "source": [
    "# Patient health data [BP, Sugar, Cholesterol]\n",
    "patients = np.array([\n",
    "    [120, 150, 180],   # Patient 1\n",
    "    [145, 210, 250],   # Patient 2\n",
    "    [130, 190, 220],   # Patient 3\n",
    "    [160, 170, 260],   # Patient 4\n",
    "    [110, 140, 200]    # Patient 5\n",
    "])"
   ]
  },
  {
   "cell_type": "code",
   "execution_count": null,
   "id": "86b8fcae",
   "metadata": {},
   "outputs": [
    {
     "name": "stdout",
     "output_type": "stream",
     "text": [
      "averages BP, Sugar, Cholesterol :  [133. 172. 222.]\n"
     ]
    }
   ],
   "source": [
    "# Find averages BP, Sugar, Cholesterol\n",
    "avg_values = np.mean(patients,axis=0)\n",
    "print(\"averages BP, Sugar, Cholesterol : \",avg_values)"
   ]
  },
  {
   "cell_type": "code",
   "execution_count": 66,
   "id": "0b8827ec",
   "metadata": {},
   "outputs": [
    {
     "name": "stdout",
     "output_type": "stream",
     "text": [
      "patients with high bp :  [2 4]\n",
      "patients with high sugar :  [2]\n",
      "patients with high cholesterol :  [2 4]\n"
     ]
    }
   ],
   "source": [
    "# Find Patients with HIGH values\n",
    "# BP\n",
    "high_bp = np.where(patients[:,0] > 140)[0] + 1\n",
    "# high_bp = patients[patients[:,0] > 140,0] # it is return value\n",
    "print(\"patients with high bp : \",high_bp)\n",
    "\n",
    "# Sugar\n",
    "high_sugar = np.where(patients[:,1] > 200)[0] + 1\n",
    "print(\"patients with high sugar : \",high_sugar)\n",
    "\n",
    "# cholesterol\n",
    "high_cholesterol = np.where(patients[:,2] > 240)[0] + 1\n",
    "print(\"patients with high cholesterol : \",high_cholesterol)"
   ]
  },
  {
   "cell_type": "code",
   "execution_count": null,
   "id": "fcd2632b",
   "metadata": {},
   "outputs": [
    {
     "name": "stdout",
     "output_type": "stream",
     "text": [
      "patients with low bp :  []\n",
      "patients with low sugar :  []\n",
      "patients with low sugar :  []\n"
     ]
    }
   ],
   "source": [
    "# Find Patients with LOW values\n",
    "# Bp\n",
    "low_bp = np.where(patients[:,0] < 90)[0] + 1\n",
    "print(\"patients with low bp : \",low_bp)\n",
    "\n",
    "# sugar\n",
    "low_sugar = np.where(patients[:,1] < 70)[0] + 1\n",
    "print(\"patients with low sugar : \",low_sugar)\n",
    "\n",
    "# cholesterol\n",
    "low_cholesterol = np.where(patients[:,2] < 70)[0] + 1\n",
    "print(\"patients with low sugar : \",low_cholesterol)"
   ]
  },
  {
   "cell_type": "code",
   "execution_count": 81,
   "id": "cdde0fdf",
   "metadata": {},
   "outputs": [
    {
     "name": "stdout",
     "output_type": "stream",
     "text": [
      "Patients with ALL NORMAL values :  [1, 3, 5]\n"
     ]
    }
   ],
   "source": [
    "# Find the normal patients\n",
    "normal_patients = []\n",
    "for i,(bp,sugar,cholesterol) in enumerate(patients,start=1):\n",
    "    if 90 <= bp <= 140 and 70 <= sugar <= 200 and 150 <= cholesterol <= 240:\n",
    "        normal_patients.append(i)\n",
    "print(\"Patients with ALL NORMAL values : \",normal_patients)"
   ]
  }
 ],
 "metadata": {
  "kernelspec": {
   "display_name": "venv",
   "language": "python",
   "name": "python3"
  },
  "language_info": {
   "codemirror_mode": {
    "name": "ipython",
    "version": 3
   },
   "file_extension": ".py",
   "mimetype": "text/x-python",
   "name": "python",
   "nbconvert_exporter": "python",
   "pygments_lexer": "ipython3",
   "version": "3.13.3"
  }
 },
 "nbformat": 4,
 "nbformat_minor": 5
}
